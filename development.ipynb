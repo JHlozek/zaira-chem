{
 "cells": [
  {
   "cell_type": "code",
   "execution_count": 1,
   "metadata": {},
   "outputs": [],
   "source": [
    "from signaturizer import Signaturizer"
   ]
  },
  {
   "cell_type": "code",
   "execution_count": 4,
   "metadata": {},
   "outputs": [],
   "source": [
    "sign = Signaturizer('GLOBAL')"
   ]
  },
  {
   "cell_type": "code",
   "execution_count": 14,
   "metadata": {},
   "outputs": [],
   "source": [
    "s = sign.predict([\"CCC\", \"CCOCC\"])"
   ]
  },
  {
   "cell_type": "code",
   "execution_count": 16,
   "metadata": {},
   "outputs": [
    {
     "data": {
      "text/plain": [
       "array([[ 0.0252775 ,  0.09000354,  0.0950816 , ...,  0.10229832,\n",
       "         0.05383358,  0.07792108],\n",
       "       [-0.00669635,  0.09058492,  0.09547642, ...,  0.11125947,\n",
       "         0.05668775,  0.09412433]], dtype=float32)"
      ]
     },
     "execution_count": 16,
     "metadata": {},
     "output_type": "execute_result"
    }
   ],
   "source": [
    "s.signature"
   ]
  },
  {
   "cell_type": "code",
   "execution_count": 17,
   "metadata": {},
   "outputs": [
    {
     "name": "stdout",
     "output_type": "stream",
     "text": [
      "Collecting mordred\n",
      "  Downloading mordred-1.2.0.tar.gz (128 kB)\n",
      "\u001b[K     |████████████████████████████████| 128 kB 3.8 MB/s eta 0:00:01\n",
      "\u001b[?25hRequirement already satisfied: six==1.* in /Users/mduran/opt/anaconda3/envs/sign/lib/python3.7/site-packages (from mordred) (1.15.0)\n",
      "Requirement already satisfied: numpy==1.* in /Users/mduran/opt/anaconda3/envs/sign/lib/python3.7/site-packages (from mordred) (1.19.5)\n",
      "Collecting networkx==2.*\n",
      "  Using cached networkx-2.5.1-py3-none-any.whl (1.6 MB)\n",
      "Requirement already satisfied: decorator<5,>=4.3 in /Users/mduran/opt/anaconda3/envs/sign/lib/python3.7/site-packages (from networkx==2.*->mordred) (4.4.2)\n",
      "Building wheels for collected packages: mordred\n",
      "  Building wheel for mordred (setup.py) ... \u001b[?25ldone\n",
      "\u001b[?25h  Created wheel for mordred: filename=mordred-1.2.0-py3-none-any.whl size=176721 sha256=bd4a46bbbe9f93b6aa7c56a04adac4414890fea2431192fc1ed286f5f7e08489\n",
      "  Stored in directory: /Users/mduran/Library/Caches/pip/wheels/02/c0/2e/e7e3d63b431777712ebc128bc4deb9ac5cb19afc7c1ea341ec\n",
      "Successfully built mordred\n",
      "Installing collected packages: networkx, mordred\n",
      "Successfully installed mordred-1.2.0 networkx-2.5.1\n"
     ]
    }
   ],
   "source": [
    "!pip install mordred"
   ]
  },
  {
   "cell_type": "code",
   "execution_count": null,
   "metadata": {},
   "outputs": [],
   "source": []
  }
 ],
 "metadata": {
  "kernelspec": {
   "display_name": "Python 3",
   "language": "python",
   "name": "python3"
  },
  "language_info": {
   "codemirror_mode": {
    "name": "ipython",
    "version": 3
   },
   "file_extension": ".py",
   "mimetype": "text/x-python",
   "name": "python",
   "nbconvert_exporter": "python",
   "pygments_lexer": "ipython3",
   "version": "3.7.10"
  }
 },
 "nbformat": 4,
 "nbformat_minor": 4
}
