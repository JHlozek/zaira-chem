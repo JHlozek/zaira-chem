{
 "cells": [
  {
   "cell_type": "code",
   "execution_count": 60,
   "id": "a541651e",
   "metadata": {},
   "outputs": [],
   "source": [
    "import pandas as pd"
   ]
  },
  {
   "cell_type": "code",
   "execution_count": 61,
   "id": "1aae76df",
   "metadata": {},
   "outputs": [],
   "source": [
    "dr = pd.read_csv(\"../input_tail/pool/results_unmapped.csv\")"
   ]
  },
  {
   "cell_type": "code",
   "execution_count": 62,
   "id": "1b1ee42d",
   "metadata": {},
   "outputs": [],
   "source": [
    "dd = pd.read_csv(\"../input_tail/data/data.csv\")"
   ]
  },
  {
   "cell_type": "code",
   "execution_count": 63,
   "id": "aed7e84d",
   "metadata": {},
   "outputs": [
    {
     "data": {
      "text/html": [
       "<div>\n",
       "<style scoped>\n",
       "    .dataframe tbody tr th:only-of-type {\n",
       "        vertical-align: middle;\n",
       "    }\n",
       "\n",
       "    .dataframe tbody tr th {\n",
       "        vertical-align: top;\n",
       "    }\n",
       "\n",
       "    .dataframe thead th {\n",
       "        text-align: right;\n",
       "    }\n",
       "</style>\n",
       "<table border=\"1\" class=\"dataframe\">\n",
       "  <thead>\n",
       "    <tr style=\"text-align: right;\">\n",
       "      <th></th>\n",
       "      <th>compound_id</th>\n",
       "      <th>smiles</th>\n",
       "      <th>reg_qnt</th>\n",
       "      <th>clf_p25</th>\n",
       "      <th>clf_p25_bin</th>\n",
       "    </tr>\n",
       "  </thead>\n",
       "  <tbody>\n",
       "    <tr>\n",
       "      <th>0</th>\n",
       "      <td>CID00</td>\n",
       "      <td>FC(F)Oc1ccc(-c2nnc3cncc(-n4cc(-c5ccccc5)nn4)n2...</td>\n",
       "      <td>0.203714</td>\n",
       "      <td>0.332221</td>\n",
       "      <td>0.0</td>\n",
       "    </tr>\n",
       "    <tr>\n",
       "      <th>1</th>\n",
       "      <td>CID01</td>\n",
       "      <td>N#Cc1ccc(-c2nnc3cncc(OCCc4ccc(F)c(F)c4)n23)cc1</td>\n",
       "      <td>0.504436</td>\n",
       "      <td>0.775488</td>\n",
       "      <td>1.0</td>\n",
       "    </tr>\n",
       "    <tr>\n",
       "      <th>2</th>\n",
       "      <td>CID02</td>\n",
       "      <td>CN(C)C(COc1cncc2nnc(-c3ccc(OC(F)F)cc3)n12)c1cc...</td>\n",
       "      <td>0.469732</td>\n",
       "      <td>0.703553</td>\n",
       "      <td>1.0</td>\n",
       "    </tr>\n",
       "    <tr>\n",
       "      <th>3</th>\n",
       "      <td>CID03</td>\n",
       "      <td>N#Cc1ccc(-c2nnc3cncc(OCCc4ccc(F)cc4)n23)cc1</td>\n",
       "      <td>0.595550</td>\n",
       "      <td>0.496151</td>\n",
       "      <td>0.0</td>\n",
       "    </tr>\n",
       "    <tr>\n",
       "      <th>4</th>\n",
       "      <td>CID04</td>\n",
       "      <td>FC(F)Oc1ccc(-c2nnc3cncc(Oc4ccc5ccsc5c4)n23)cc1</td>\n",
       "      <td>0.327175</td>\n",
       "      <td>0.291628</td>\n",
       "      <td>0.0</td>\n",
       "    </tr>\n",
       "    <tr>\n",
       "      <th>...</th>\n",
       "      <td>...</td>\n",
       "      <td>...</td>\n",
       "      <td>...</td>\n",
       "      <td>...</td>\n",
       "      <td>...</td>\n",
       "    </tr>\n",
       "    <tr>\n",
       "      <th>94</th>\n",
       "      <td>CID94</td>\n",
       "      <td>CS(=O)(=O)c1ccc(-c2nnc3cncc(OCCc4ccc(F)c(F)c4)...</td>\n",
       "      <td>-0.103862</td>\n",
       "      <td>0.290588</td>\n",
       "      <td>0.0</td>\n",
       "    </tr>\n",
       "    <tr>\n",
       "      <th>95</th>\n",
       "      <td>CID95</td>\n",
       "      <td>FC(F)Oc1ccc(-c2nnc3cncc(OCc4cn(-c5cncc(Cl)n5)n...</td>\n",
       "      <td>-0.454748</td>\n",
       "      <td>0.220526</td>\n",
       "      <td>0.0</td>\n",
       "    </tr>\n",
       "    <tr>\n",
       "      <th>96</th>\n",
       "      <td>CID96</td>\n",
       "      <td>FC(F)Oc1ccc(-c2nnc3cncc(OCc4ccc(Cl)cc4)n23)cc1</td>\n",
       "      <td>-0.319971</td>\n",
       "      <td>0.311547</td>\n",
       "      <td>0.0</td>\n",
       "    </tr>\n",
       "    <tr>\n",
       "      <th>97</th>\n",
       "      <td>CID97</td>\n",
       "      <td>c1ccc(COc2cncc3nnc(-c4ccc5ccccc5c4)n23)nc1</td>\n",
       "      <td>0.286190</td>\n",
       "      <td>0.325472</td>\n",
       "      <td>0.0</td>\n",
       "    </tr>\n",
       "    <tr>\n",
       "      <th>98</th>\n",
       "      <td>CID98</td>\n",
       "      <td>Fc1ccc(C2C(Oc3cncc4nnc(-c5ccc(OC(F)F)cc5)n34)C...</td>\n",
       "      <td>0.014636</td>\n",
       "      <td>0.243486</td>\n",
       "      <td>0.0</td>\n",
       "    </tr>\n",
       "  </tbody>\n",
       "</table>\n",
       "<p>99 rows × 5 columns</p>\n",
       "</div>"
      ],
      "text/plain": [
       "   compound_id                                             smiles   reg_qnt  \\\n",
       "0        CID00  FC(F)Oc1ccc(-c2nnc3cncc(-n4cc(-c5ccccc5)nn4)n2...  0.203714   \n",
       "1        CID01     N#Cc1ccc(-c2nnc3cncc(OCCc4ccc(F)c(F)c4)n23)cc1  0.504436   \n",
       "2        CID02  CN(C)C(COc1cncc2nnc(-c3ccc(OC(F)F)cc3)n12)c1cc...  0.469732   \n",
       "3        CID03        N#Cc1ccc(-c2nnc3cncc(OCCc4ccc(F)cc4)n23)cc1  0.595550   \n",
       "4        CID04     FC(F)Oc1ccc(-c2nnc3cncc(Oc4ccc5ccsc5c4)n23)cc1  0.327175   \n",
       "..         ...                                                ...       ...   \n",
       "94       CID94  CS(=O)(=O)c1ccc(-c2nnc3cncc(OCCc4ccc(F)c(F)c4)... -0.103862   \n",
       "95       CID95  FC(F)Oc1ccc(-c2nnc3cncc(OCc4cn(-c5cncc(Cl)n5)n... -0.454748   \n",
       "96       CID96     FC(F)Oc1ccc(-c2nnc3cncc(OCc4ccc(Cl)cc4)n23)cc1 -0.319971   \n",
       "97       CID97         c1ccc(COc2cncc3nnc(-c4ccc5ccccc5c4)n23)nc1  0.286190   \n",
       "98       CID98  Fc1ccc(C2C(Oc3cncc4nnc(-c5ccc(OC(F)F)cc5)n34)C...  0.014636   \n",
       "\n",
       "     clf_p25  clf_p25_bin  \n",
       "0   0.332221          0.0  \n",
       "1   0.775488          1.0  \n",
       "2   0.703553          1.0  \n",
       "3   0.496151          0.0  \n",
       "4   0.291628          0.0  \n",
       "..       ...          ...  \n",
       "94  0.290588          0.0  \n",
       "95  0.220526          0.0  \n",
       "96  0.311547          0.0  \n",
       "97  0.325472          0.0  \n",
       "98  0.243486          0.0  \n",
       "\n",
       "[99 rows x 5 columns]"
      ]
     },
     "execution_count": 63,
     "metadata": {},
     "output_type": "execute_result"
    }
   ],
   "source": [
    "dr"
   ]
  },
  {
   "cell_type": "code",
   "execution_count": 68,
   "id": "697c8ca9",
   "metadata": {},
   "outputs": [],
   "source": [
    "yp = list(dr[\"clf_p25\"])"
   ]
  },
  {
   "cell_type": "code",
   "execution_count": 69,
   "id": "82d8978e",
   "metadata": {},
   "outputs": [],
   "source": [
    "yt = list(dd[\"clf_p25\"])"
   ]
  },
  {
   "cell_type": "code",
   "execution_count": 70,
   "id": "977b33ac",
   "metadata": {},
   "outputs": [
    {
     "data": {
      "text/plain": [
       "(-2.0, 2.0)"
      ]
     },
     "execution_count": 70,
     "metadata": {},
     "output_type": "execute_result"
    },
    {
     "data": {
      "image/png": "[encoded data removed]",
      "text/plain": [
       "<Figure size 432x288 with 1 Axes>"
      ]
     },
     "metadata": {
      "needs_background": "light"
     },
     "output_type": "display_data"
    }
   ],
   "source": [
    "plt.scatter(yp, yt)\n",
    "plt.xlim(-2,2)\n",
    "plt.ylim(-2,2)"
   ]
  },
  {
   "cell_type": "code",
   "execution_count": 74,
   "id": "96505dd6",
   "metadata": {},
   "outputs": [],
   "source": [
    "from sklearn.metrics import roc_curve, auc"
   ]
  },
  {
   "cell_type": "code",
   "execution_count": 72,
   "id": "131e297e",
   "metadata": {},
   "outputs": [],
   "source": [
    "fpr, tpr, _ = roc_curve(yt, yp)"
   ]
  },
  {
   "cell_type": "code",
   "execution_count": 73,
   "id": "3db3cf3c",
   "metadata": {},
   "outputs": [
    {
     "data": {
      "text/plain": [
       "<matplotlib.collections.PathCollection at 0x7fc8dd998190>"
      ]
     },
     "execution_count": 73,
     "metadata": {},
     "output_type": "execute_result"
    },
    {
     "data": {
      "image/png": "[encoded data removed]",
      "text/plain": [
       "<Figure size 432x288 with 1 Axes>"
      ]
     },
     "metadata": {
      "needs_background": "light"
     },
     "output_type": "display_data"
    }
   ],
   "source": [
    "%matplotlib inline\n",
    "import matplotlib.pyplot as plt\n",
    "plt.scatter(fpr, tpr)"
   ]
  },
  {
   "cell_type": "code",
   "execution_count": 75,
   "id": "c5787de5",
   "metadata": {},
   "outputs": [
    {
     "data": {
      "text/plain": [
       "(array([ 4., 21., 28.,  7.,  6.,  9.,  9.,  6.,  5.,  4.]),\n",
       " array([0.13501264, 0.20735632, 0.27969999, 0.35204367, 0.42438734,\n",
       "        0.49673102, 0.5690747 , 0.64141837, 0.71376205, 0.78610572,\n",
       "        0.8584494 ]),\n",
       " <BarContainer object of 10 artists>)"
      ]
     },
     "execution_count": 75,
     "metadata": {},
     "output_type": "execute_result"
    },
    {
     "data": {
      "image/png": "[encoded data removed]",
      "text/plain": [
       "<Figure size 432x288 with 1 Axes>"
      ]
     },
     "metadata": {
      "needs_background": "light"
     },
     "output_type": "display_data"
    }
   ],
   "source": [
    "plt.hist(yp)"
   ]
  },
  {
   "cell_type": "code",
   "execution_count": 76,
   "id": "5032847b",
   "metadata": {},
   "outputs": [
    {
     "name": "stdout",
     "output_type": "stream",
     "text": [
      "0.7825711820534944\n"
     ]
    }
   ],
   "source": [
    "print(auc(fpr, tpr))"
   ]
  },
  {
   "cell_type": "code",
   "execution_count": null,
   "id": "3df03a10",
   "metadata": {},
   "outputs": [],
   "source": []
  }
 ],
 "metadata": {
  "kernelspec": {
   "display_name": "Python 3 (ipykernel)",
   "language": "python",
   "name": "python3"
  },
  "language_info": {
   "codemirror_mode": {
    "name": "ipython",
    "version": 3
   },
   "file_extension": ".py",
   "mimetype": "text/x-python",
   "name": "python",
   "nbconvert_exporter": "python",
   "pygments_lexer": "ipython3",
   "version": "3.7.11"
  }
 },
 "nbformat": 4,
 "nbformat_minor": 5
}
