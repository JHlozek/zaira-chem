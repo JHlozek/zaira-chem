{
 "cells": [
  {
   "cell_type": "code",
   "execution_count": 1,
   "metadata": {},
   "outputs": [],
   "source": [
    "%matplotlib inline\n",
    "\n",
    "from stylia import create_figure, save_figure\n",
    "from stylia.colors.colors import NamedColors\n",
    "\n",
    "from zairachem.reports.fetcher import ResultsFetcher\n",
    "\n",
    "named_colors = NamedColors()"
   ]
  },
  {
   "cell_type": "markdown",
   "metadata": {},
   "source": [
    "## Chemical space and available data"
   ]
  },
  {
   "cell_type": "code",
   "execution_count": 17,
   "metadata": {},
   "outputs": [
    {
     "data": {
      "image/png": "[encoded data removed]",
      "text/plain": [
       "<Figure size 518.74x345.827 with 6 Axes>"
      ]
     },
     "metadata": {},
     "output_type": "display_data"
    }
   ],
   "source": [
    "import matplotlib.pyplot as plt\n",
    "fig, axs = create_figure(2, 3, support=\"paper\")\n",
    "\n",
    "import h5py\n",
    "\n",
    "path = os.path.join(\"/home/mduranfrigola/Desktop/osm/descriptors/\")\n",
    "\n",
    "ax = axs.next()\n",
    "ax.set_title(\"UMAP\")\n",
    "ax.set_axis_off()\n",
    "with h5py.File(os.path.join(path, \"umap.h5\"), \"r\") as f:\n",
    "    X = f[\"Values\"][:]\n",
    "    ax.scatter(X[:,0], X[:,1], color=\"lightgray\")\n",
    "\n",
    "\n",
    "\n",
    "ax = axs.next()\n",
    "ax.set_title(\"PCA\")\n",
    "ax.set_axis_off()\n",
    "with h5py.File(os.path.join(path, \"pca.h5\"), \"r\") as f:\n",
    "    X = f[\"Values\"][:]\n",
    "    ax.scatter(X[:,0], X[:,1], color=\"lightgray\")\n",
    "\n",
    "\n",
    "ax = axs.next()\n",
    "ax.set_title(\"LOL\")\n",
    "ax.set_axis_off()\n",
    "\n",
    "with h5py.File(os.path.join(path, \"lolp.h5\"), \"r\") as f:\n",
    "    X = f[\"Values\"][:]\n",
    "    ax.scatter(X[:,0], X[:,1], color=\"lightgray\")\n"
   ]
  },
  {
   "cell_type": "code",
   "execution_count": 3,
   "metadata": {},
   "outputs": [
    {
     "ename": "AttributeError",
     "evalue": "type object 'Palette' has no attribute 'colors'",
     "output_type": "error",
     "traceback": [
      "\u001b[0;31m---------------------------------------------------------------------------\u001b[0m",
      "\u001b[0;31mAttributeError\u001b[0m                            Traceback (most recent call last)",
      "\u001b[0;32m/tmp/ipykernel_27906/4293165937.py\u001b[0m in \u001b[0;36m<module>\u001b[0;34m\u001b[0m\n\u001b[0;32m----> 1\u001b[0;31m \u001b[0max\u001b[0m \u001b[0;34m=\u001b[0m \u001b[0maxs\u001b[0m\u001b[0;34m.\u001b[0m\u001b[0mnext\u001b[0m\u001b[0;34m(\u001b[0m\u001b[0;34m)\u001b[0m\u001b[0;34m\u001b[0m\u001b[0;34m\u001b[0m\u001b[0m\n\u001b[0m",
      "\u001b[0;32m~/github/ersilia-os/stylia/stylia/figure/figure.py\u001b[0m in \u001b[0;36mnext\u001b[0;34m(self)\u001b[0m\n\u001b[1;32m     74\u001b[0m         \u001b[0mself\u001b[0m\u001b[0;34m.\u001b[0m\u001b[0mcurrent_i\u001b[0m \u001b[0;34m+=\u001b[0m \u001b[0;36m1\u001b[0m\u001b[0;34m\u001b[0m\u001b[0;34m\u001b[0m\u001b[0m\n\u001b[1;32m     75\u001b[0m         ax.set_prop_cycle(\n\u001b[0;32m---> 76\u001b[0;31m             \u001b[0;34m\"color\"\u001b[0m\u001b[0;34m,\u001b[0m \u001b[0mPalette\u001b[0m\u001b[0;34m.\u001b[0m\u001b[0mcolors\u001b[0m\u001b[0;34m\u001b[0m\u001b[0;34m\u001b[0m\u001b[0m\n\u001b[0m\u001b[1;32m     77\u001b[0m         )\n\u001b[1;32m     78\u001b[0m         \u001b[0max\u001b[0m\u001b[0;34m.\u001b[0m\u001b[0mset_xlabel\u001b[0m\u001b[0;34m(\u001b[0m\u001b[0;34m\"X-axis / Units\"\u001b[0m\u001b[0;34m)\u001b[0m\u001b[0;34m\u001b[0m\u001b[0;34m\u001b[0m\u001b[0m\n",
      "\u001b[0;31mAttributeError\u001b[0m: type object 'Palette' has no attribute 'colors'"
     ]
    }
   ],
   "source": [
    "ax = axs.next()"
   ]
  },
  {
   "cell_type": "code",
   "execution_count": null,
   "metadata": {},
   "outputs": [],
   "source": []
  }
 ],
 "metadata": {
  "interpreter": {
   "hash": "49615352d8230f3a65afead9b02f22d2317a0bc659ed2d3903b4cb5550fa74aa"
  },
  "kernelspec": {
   "display_name": "Python 3.7.11 ('zairachem')",
   "language": "python",
   "name": "python3"
  },
  "language_info": {
   "codemirror_mode": {
    "name": "ipython",
    "version": 3
   },
   "file_extension": ".py",
   "mimetype": "text/x-python",
   "name": "python",
   "nbconvert_exporter": "python",
   "pygments_lexer": "ipython3",
   "version": "3.7.12"
  },
  "orig_nbformat": 4
 },
 "nbformat": 4,
 "nbformat_minor": 2
}
